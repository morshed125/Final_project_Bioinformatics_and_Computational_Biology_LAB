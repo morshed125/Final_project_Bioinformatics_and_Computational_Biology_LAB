{
  "cells": [
    {
      "cell_type": "code",
      "source": [
        "#Shah Md. Golam Morshed\n",
        "#Id:2114951060"
      ],
      "metadata": {
        "id": "VV-GmtgwGbAy"
      },
      "id": "VV-GmtgwGbAy",
      "execution_count": 1,
      "outputs": []
    },
    {
      "cell_type": "code",
      "execution_count": 2,
      "id": "XwpQtAR_Zs0D",
      "metadata": {
        "colab": {
          "base_uri": "https://localhost:8080/"
        },
        "id": "XwpQtAR_Zs0D",
        "outputId": "31bd279a-5f8b-4792-bded-5f90fd0bcc37"
      },
      "outputs": [
        {
          "output_type": "stream",
          "name": "stdout",
          "text": [
            "Collecting biopython\n",
            "  Downloading biopython-1.84-cp310-cp310-manylinux_2_17_x86_64.manylinux2014_x86_64.whl.metadata (12 kB)\n",
            "Requirement already satisfied: numpy in /usr/local/lib/python3.10/dist-packages (from biopython) (1.26.4)\n",
            "Downloading biopython-1.84-cp310-cp310-manylinux_2_17_x86_64.manylinux2014_x86_64.whl (3.2 MB)\n",
            "\u001b[?25l   \u001b[90m━━━━━━━━━━━━━━━━━━━━━━━━━━━━━━━━━━━━━━━━\u001b[0m \u001b[32m0.0/3.2 MB\u001b[0m \u001b[31m?\u001b[0m eta \u001b[36m-:--:--\u001b[0m\r\u001b[2K   \u001b[91m━\u001b[0m\u001b[91m╸\u001b[0m\u001b[90m━━━━━━━━━━━━━━━━━━━━━━━━━━━━━━━━━━━━━━\u001b[0m \u001b[32m0.2/3.2 MB\u001b[0m \u001b[31m4.3 MB/s\u001b[0m eta \u001b[36m0:00:01\u001b[0m\r\u001b[2K   \u001b[91m━━━━━━━━━━━━━━\u001b[0m\u001b[91m╸\u001b[0m\u001b[90m━━━━━━━━━━━━━━━━━━━━━━━━━\u001b[0m \u001b[32m1.2/3.2 MB\u001b[0m \u001b[31m16.8 MB/s\u001b[0m eta \u001b[36m0:00:01\u001b[0m\r\u001b[2K   \u001b[91m━━━━━━━━━━━━━━━━━━━━━━━━━━━━━━━━━━━━━━━\u001b[0m\u001b[91m╸\u001b[0m \u001b[32m3.2/3.2 MB\u001b[0m \u001b[31m32.2 MB/s\u001b[0m eta \u001b[36m0:00:01\u001b[0m\r\u001b[2K   \u001b[90m━━━━━━━━━━━━━━━━━━━━━━━━━━━━━━━━━━━━━━━━\u001b[0m \u001b[32m3.2/3.2 MB\u001b[0m \u001b[31m25.1 MB/s\u001b[0m eta \u001b[36m0:00:00\u001b[0m\n",
            "\u001b[?25hInstalling collected packages: biopython\n",
            "Successfully installed biopython-1.84\n"
          ]
        }
      ],
      "source": [
        "!pip install biopython\n",
        "\n",
        "\n"
      ]
    },
    {
      "cell_type": "code",
      "execution_count": 3,
      "id": "6TJdHglGZwA7",
      "metadata": {
        "id": "6TJdHglGZwA7"
      },
      "outputs": [],
      "source": [
        "import pandas as pd\n",
        "import matplotlib.pyplot as plt\n",
        "import seaborn as sns\n",
        "from Bio import SeqIO\n",
        "from Bio.SeqUtils import gc_fraction\n",
        "from Bio.Seq import Seq\n",
        "from io import StringIO"
      ]
    },
    {
      "cell_type": "code",
      "execution_count": 4,
      "id": "nmpgYEkQFic2",
      "metadata": {
        "colab": {
          "base_uri": "https://localhost:8080/"
        },
        "id": "nmpgYEkQFic2",
        "outputId": "88daceb5-a124-4eb4-a0c8-7c797eb5f078"
      },
      "outputs": [
        {
          "output_type": "stream",
          "name": "stdout",
          "text": [
            "Mounted at /content/drive\n"
          ]
        }
      ],
      "source": [
        "from google.colab import drive\n",
        "drive.mount('/content/drive')"
      ]
    },
    {
      "cell_type": "code",
      "execution_count": 5,
      "id": "d04e3f37",
      "metadata": {
        "id": "d04e3f37"
      },
      "outputs": [],
      "source": [
        "# Load datasets\n",
        "info_df = pd.read_csv('/content/drive/MyDrive/Id_60/Untitled folder/sars_cov_2_info_all_strains.csv')\n",
        "nucleotides_df = pd.read_csv('/content/drive/MyDrive/Id_60/Untitled folder/sars_cov_2_nucleotides_all_strains.csv')\n",
        "protein_df = pd.read_csv('/content/drive/MyDrive/Id_60/Untitled folder/sars_cov_2_protein_all_strains.csv')\n"
      ]
    },
    {
      "cell_type": "code",
      "execution_count": 6,
      "id": "274a0d50",
      "metadata": {
        "colab": {
          "base_uri": "https://localhost:8080/"
        },
        "id": "274a0d50",
        "outputId": "c6dcc1fb-20cc-440a-89f4-0358518f4ee0"
      },
      "outputs": [
        {
          "output_type": "stream",
          "name": "stdout",
          "text": [
            "Strain Information Dataset:\n",
            "<class 'pandas.core.frame.DataFrame'>\n",
            "RangeIndex: 1147 entries, 0 to 1146\n",
            "Data columns (total 18 columns):\n",
            " #   Column            Non-Null Count  Dtype  \n",
            "---  ------            --------------  -----  \n",
            " 0   Accession         1147 non-null   object \n",
            " 1   Release_Date      1147 non-null   object \n",
            " 2   Species           1147 non-null   object \n",
            " 3   Genus             1147 non-null   object \n",
            " 4   Family            1147 non-null   object \n",
            " 5   Length            1147 non-null   int64  \n",
            " 6   Nuc_Completeness  1147 non-null   object \n",
            " 7   Genotype          0 non-null      float64\n",
            " 8   Genome_Region     0 non-null      float64\n",
            " 9   Segment           0 non-null      float64\n",
            " 10  Authors           1147 non-null   object \n",
            " 11  Publications      23 non-null     float64\n",
            " 12  Geo_Location      1084 non-null   object \n",
            " 13  Host              1104 non-null   object \n",
            " 14  Isolation_Source  773 non-null    object \n",
            " 15  Collection_Date   1104 non-null   object \n",
            " 16  BioSample         11 non-null     object \n",
            " 17  GenBank_Title     1147 non-null   object \n",
            "dtypes: float64(4), int64(1), object(13)\n",
            "memory usage: 161.4+ KB\n",
            "None \n",
            "\n",
            "Nucleotide Sequences Dataset:\n",
            "<class 'pandas.core.frame.DataFrame'>\n",
            "RangeIndex: 170 entries, 0 to 169\n",
            "Data columns (total 2 columns):\n",
            " #   Column  Non-Null Count  Dtype \n",
            "---  ------  --------------  ----- \n",
            " 0   id      170 non-null    object\n",
            " 1   seq     170 non-null    object\n",
            "dtypes: object(2)\n",
            "memory usage: 2.8+ KB\n",
            "None \n",
            "\n",
            "Protein Sequences Dataset:\n",
            "<class 'pandas.core.frame.DataFrame'>\n",
            "RangeIndex: 1147 entries, 0 to 1146\n",
            "Data columns (total 2 columns):\n",
            " #   Column  Non-Null Count  Dtype \n",
            "---  ------  --------------  ----- \n",
            " 0   id      1147 non-null   object\n",
            " 1   seq     1147 non-null   object\n",
            "dtypes: object(2)\n",
            "memory usage: 18.0+ KB\n",
            "None \n",
            "\n"
          ]
        }
      ],
      "source": [
        "\n",
        "# Display basic information about each dataset\n",
        "print(\"Strain Information Dataset:\")\n",
        "print(info_df.info(), \"\\n\")\n",
        "\n",
        "print(\"Nucleotide Sequences Dataset:\")\n",
        "print(nucleotides_df.info(), \"\\n\")\n",
        "\n",
        "print(\"Protein Sequences Dataset:\")\n",
        "print(protein_df.info(), \"\\n\")\n",
        "\n"
      ]
    },
    {
      "cell_type": "code",
      "execution_count": 7,
      "id": "IS4njsZ-C9cn",
      "metadata": {
        "id": "IS4njsZ-C9cn",
        "colab": {
          "base_uri": "https://localhost:8080/",
          "height": 528
        },
        "outputId": "8ac9f4fb-5ee1-440d-9c8f-fa98d72c4d29"
      },
      "outputs": [
        {
          "output_type": "display_data",
          "data": {
            "text/plain": [
              "<Figure size 1000x500 with 1 Axes>"
            ],
            "image/png": "[encoded data removed]"
          },
          "metadata": {}
        }
      ],
      "source": [
        "\n",
        "# Exploratory Data Analysis (EDA)\n",
        "\n",
        "## Visualize geographic distribution of strains\n",
        "geo_dist = info_df['Geo_Location'].value_counts().head(10)\n",
        "plt.figure(figsize=(10, 5))\n",
        "sns.barplot(x=geo_dist.index, y=geo_dist.values)\n",
        "plt.title('Top 10 Locations of SARS-CoV-2 Strains')\n",
        "plt.xticks(rotation=45)\n",
        "plt.ylabel('Number of Strains')\n",
        "plt.show()\n"
      ]
    },
    {
      "cell_type": "code",
      "execution_count": 8,
      "id": "cSQG0Z2yxAkt",
      "metadata": {
        "id": "cSQG0Z2yxAkt",
        "colab": {
          "base_uri": "https://localhost:8080/",
          "height": 487
        },
        "outputId": "8731a123-99f1-434d-9074-a224af79a257"
      },
      "outputs": [
        {
          "output_type": "display_data",
          "data": {
            "text/plain": [
              "<Figure size 1000x500 with 1 Axes>"
            ],
            "image/png": "[encoded data removed]"
          },
          "metadata": {}
        }
      ],
      "source": [
        "## Analyze sequence lengths\n",
        "nucleotide_lengths = nucleotides_df['seq'].str.len()\n",
        "protein_lengths = protein_df['seq'].str.len()\n",
        "\n",
        "plt.figure(figsize=(10, 5))\n",
        "plt.hist(nucleotide_lengths, bins=30, alpha=0.7, label='Nucleotide Sequences')\n",
        "plt.hist(protein_lengths, bins=30, alpha=0.7, label='Protein Sequences')\n",
        "plt.title('Distribution of Sequence Lengths')\n",
        "plt.xlabel('Length')\n",
        "plt.ylabel('Frequency')\n",
        "plt.legend()\n",
        "plt.show()\n"
      ]
    },
    {
      "cell_type": "code",
      "execution_count": 9,
      "id": "JtMh6FOFC-Fm",
      "metadata": {
        "colab": {
          "base_uri": "https://localhost:8080/"
        },
        "id": "JtMh6FOFC-Fm",
        "outputId": "00768149-fc89-46a3-ab7b-8aa4af5cb4c8"
      },
      "outputs": [
        {
          "output_type": "stream",
          "name": "stdout",
          "text": [
            "GC Content for the first 10 sequences:\n",
            "0    37.972779\n",
            "1    37.916356\n",
            "2    37.986294\n",
            "3    37.987002\n",
            "4    37.994776\n",
            "5    48.636364\n",
            "6    38.013343\n",
            "7    37.984678\n",
            "8    37.982603\n",
            "9    37.979561\n",
            "Name: seq, dtype: float64\n"
          ]
        }
      ],
      "source": [
        "\n",
        "# Load nucleotide dataset\n",
        "nucleotides_file_path = '/content/drive/MyDrive/Id_60/Untitled folder/sars_cov_2_nucleotides_all_strains.csv'\n",
        "nucleotides_df = pd.read_csv(nucleotides_file_path)\n",
        "\n",
        "# Calculate GC content for the first 10 sequences\n",
        "if 'seq' in nucleotides_df.columns:\n",
        "    # Drop rows with missing or null sequences\n",
        "    nucleotides_df = nucleotides_df.dropna(subset=['seq'])\n",
        "\n",
        "    # Apply gc_fraction to calculate GC content\n",
        "    gc_content = nucleotides_df['seq'].apply(\n",
        "        lambda x: gc_fraction(Seq(x)) * 100 if isinstance(x, str) and len(x) > 0 else None\n",
        "    )\n",
        "\n",
        "    print(\"GC Content for the first 10 sequences:\")\n",
        "    print(gc_content.head(10))\n",
        "else:\n",
        "    print(\"The 'seq' column is not found in the nucleotides DataFrame.\")\n"
      ]
    },
    {
      "cell_type": "code",
      "source": [
        "import matplotlib.pyplot as plt\n",
        "\n",
        "# Take the first 10 GC content values\n",
        "gc_first_10 = gc_content.head(10)\n",
        "\n",
        "# Create a figure and axis\n",
        "plt.figure(figsize=(8, 5))\n",
        "\n",
        "# Plot a bar chart\n",
        "plt.bar(range(1, len(gc_first_10) + 1), gc_first_10)\n",
        "\n",
        "# Labeling the axes and title\n",
        "plt.xlabel('Sequence Index')\n",
        "plt.ylabel('GC Content (%)')\n",
        "plt.title('GC Content of First 10 Sequences')\n",
        "\n",
        "# Show the plot\n",
        "plt.show()\n"
      ],
      "metadata": {
        "colab": {
          "base_uri": "https://localhost:8080/",
          "height": 487
        },
        "id": "K5Lxul0GCckQ",
        "outputId": "be67d24d-e537-45ba-f373-07b6f0260cb9"
      },
      "id": "K5Lxul0GCckQ",
      "execution_count": 10,
      "outputs": [
        {
          "output_type": "display_data",
          "data": {
            "text/plain": [
              "<Figure size 800x500 with 1 Axes>"
            ],
            "image/png": "[encoded data removed]"
          },
          "metadata": {}
        }
      ]
    },
    {
      "cell_type": "code",
      "execution_count": 11,
      "id": "c9fzcPl7jXaF",
      "metadata": {
        "id": "c9fzcPl7jXaF"
      },
      "outputs": [],
      "source": [
        "\n",
        "# Phylogenetic Tree Construction\n",
        "from Bio.Phylo.TreeConstruction import DistanceCalculator, DistanceTreeConstructor\n",
        "from Bio.Phylo import draw_ascii\n",
        "\n"
      ]
    },
    {
      "cell_type": "code",
      "execution_count": 12,
      "id": "FtdFSDLpC-t7",
      "metadata": {
        "id": "FtdFSDLpC-t7"
      },
      "outputs": [],
      "source": [
        "## Use the first 10 nucleotide sequences for alignment\n",
        "seqs = nucleotides_df['seq'].head(10).apply(lambda x: Seq(x) if isinstance(x, str) else None)\n",
        "\n",
        "\n"
      ]
    },
    {
      "cell_type": "code",
      "execution_count": 13,
      "id": "a2IohGWwDO-R",
      "metadata": {
        "id": "a2IohGWwDO-R"
      },
      "outputs": [],
      "source": [
        "# Write sequences to FASTA format for analysis\n",
        "with open(\"sequences.fasta\", \"w\") as fasta_file:\n",
        "    for i, seq in enumerate(seqs):\n",
        "        fasta_file.write(f\">Strain_{i}\\n{str(seq)}\\n\")"
      ]
    },
    {
      "cell_type": "code",
      "execution_count": 14,
      "id": "tLkI76R4kO12",
      "metadata": {
        "id": "tLkI76R4kO12",
        "colab": {
          "base_uri": "https://localhost:8080/"
        },
        "outputId": "fc667fc7-a681-4399-e478-2c3345f2a40a"
      },
      "outputs": [
        {
          "output_type": "stream",
          "name": "stdout",
          "text": [
            "\n",
            "Phylogenetic Tree:\n",
            "                                  ___________________________________ Strain_4\n",
            "  _______________________________|\n",
            " |                               |_________________________________ Strain_0\n",
            " |\n",
            "_|_ Strain_1\n",
            " |\n",
            " |, Strain_3\n",
            " ||\n",
            "  | Strain_2\n",
            "\n",
            "Phylogenetic tree saved as 'phylogenetic_tree_fixed.nwk'.\n"
          ]
        }
      ],
      "source": [
        "# Import necessary libraries\n",
        "from Bio.Seq import Seq\n",
        "from Bio.SeqRecord import SeqRecord\n",
        "from Bio.Align import MultipleSeqAlignment\n",
        "from Bio.Phylo.TreeConstruction import DistanceCalculator, DistanceTreeConstructor\n",
        "from Bio import Phylo\n",
        "import pandas as pd\n",
        "\n",
        "# Step 1: Load the nucleotide dataset\n",
        "nucleotide_file = '/content/drive/MyDrive/Id_60/Untitled folder/sars_cov_2_nucleotides_all_strains.csv'  # Update with your file path\n",
        "nucleotides_df = pd.read_csv(nucleotide_file)\n",
        "\n",
        "# Step 2: Select a subset of sequences and make them equal length\n",
        "subset = nucleotides_df['seq'].dropna().head(5)  # Use only the first 5 sequences\n",
        "min_length = min(len(seq) for seq in subset if isinstance(seq, str))  # Find the shortest sequence length\n",
        "\n",
        "# Truncate sequences to the minimum length\n",
        "records = [\n",
        "    SeqRecord(Seq(seq[:min_length]), id=f\"Strain_{i}\") for i, seq in enumerate(subset)\n",
        "]\n",
        "\n",
        "# Step 3: Create a MultipleSeqAlignment object\n",
        "alignment = MultipleSeqAlignment(records)\n",
        "\n",
        "# Step 4: Calculate the distance matrix\n",
        "calculator = DistanceCalculator('identity')\n",
        "dm = calculator.get_distance(alignment)\n",
        "\n",
        "# Step 5: Construct the phylogenetic tree\n",
        "constructor = DistanceTreeConstructor(calculator)\n",
        "tree = constructor.build_tree(alignment)\n",
        "\n",
        "# Step 6: Display the phylogenetic tree in ASCII format\n",
        "print(\"\\nPhylogenetic Tree:\")\n",
        "Phylo.draw_ascii(tree)\n",
        "\n",
        "# Optional: Save the tree to a file in Newick format\n",
        "Phylo.write(tree, \"phylogenetic_tree_fixed.nwk\", \"newick\")\n",
        "print(\"Phylogenetic tree saved as 'phylogenetic_tree_fixed.nwk'.\")"
      ]
    },
    {
      "cell_type": "code",
      "execution_count": 15,
      "id": "FXwHzOWUDPpi",
      "metadata": {
        "id": "FXwHzOWUDPpi",
        "colab": {
          "base_uri": "https://localhost:8080/"
        },
        "outputId": "9159852f-dcf1-49c9-93fa-4d3f5efb263b"
      },
      "outputs": [
        {
          "output_type": "stream",
          "name": "stdout",
          "text": [
            "Proteins with the motif 'NGL':\n",
            "                                                     id  \\\n",
            "2     YP_009725299 |nsp3 [Severe acute respiratory s...   \n",
            "4     YP_009725301 |3C-like proteinase [Severe acute...   \n",
            "15    YP_009725295 |orf1a polyprotein [Severe acute ...   \n",
            "17    YP_009725298 |nsp2 [Severe acute respiratory s...   \n",
            "20    YP_009724389 |orf1ab polyprotein [Severe acute...   \n",
            "...                                                 ...   \n",
            "1118  QHN73794 |ORF1ab polyprotein [Severe acute res...   \n",
            "1122  QHO60594 |surface glycoprotein [Severe acute r...   \n",
            "1129  QHO60603 |orf1ab polyprotein [Severe acute res...   \n",
            "1138  QHD43416 |surface glycoprotein [Severe acute r...   \n",
            "1143  QHD43415 |orf1ab polyprotein [Severe acute res...   \n",
            "\n",
            "                                                    seq  motif_present  \n",
            "2     APTKVTFGDDTVIEVQGYKSVNITFELDERIDKVLNEKCSAYTVEL...           True  \n",
            "4     SGFRKMAFPSGKVEGCMVQVTCGTTTLNGLWLDDVVYCPRHVICTS...           True  \n",
            "15    MESLVPGFNEKTHVQLSLPVLQVRDVLVRGFGDSVEEVLSEARQHL...           True  \n",
            "17    AYTRYVDNNFCGPDGYPLECIKDLLARAGKASCTLSEQLDFIDTKR...           True  \n",
            "20    MESLVPGFNEKTHVQLSLPVLQVRDVLVRGFGDSVEEVLSEARQHL...           True  \n",
            "...                                                 ...            ...  \n",
            "1118  MESLVPGFNEKTHVQLSLPVLQVRDVLVRGFGDSVEEVLSEARQHL...           True  \n",
            "1122  MFVFLVLLPLVSSQCVNLTTRTQLPPAYTNSFTRGVYYPDKVFRSS...           True  \n",
            "1129  MESLVPGFNEKTHVQLSLPVLQVRDVLVRGFGDSVEEVLSEARQHL...           True  \n",
            "1138  MFVFLVLLPLVSSQCVNLTTRTQLPPAYTNSFTRGVYYPDKVFRSS...           True  \n",
            "1143  MESLVPGFNEKTHVQLSLPVLQVRDVLVRGFGDSVEEVLSEARQHL...           True  \n",
            "\n",
            "[236 rows x 3 columns]\n"
          ]
        }
      ],
      "source": [
        "# Protein Functional Insights\n",
        "\n",
        "## Identify key domains (simple example with sequence motifs)\n",
        "motif = \"NGL\"  # Example motif\n",
        "protein_df['motif_present'] = protein_df['seq'].str.contains(motif)\n",
        "print(\"Proteins with the motif 'NGL':\")\n",
        "print(protein_df[protein_df['motif_present']])\n",
        "\n",
        "# Save the processed data to CSV\n",
        "info_df.to_csv('/content/processed_info.csv', index=False)\n",
        "nucleotides_df.to_csv('/content/processed_nucleotides.csv', index=False)\n",
        "protein_df.to_csv('/content/processed_protein.csv', index=False)"
      ]
    },
    {
      "cell_type": "code",
      "source": [
        "import matplotlib.pyplot as plt\n",
        "\n",
        "# Suppose 'protein_df' already has the 'motif_present' column\n",
        "# from the code you provided:\n",
        "#   protein_df['motif_present'] = protein_df['seq'].str.contains(\"NGL\")\n",
        "\n",
        "# Count how many sequences contain (True) vs. do not contain (False) the motif\n",
        "motif_counts = protein_df['motif_present'].value_counts()\n",
        "\n",
        "# We can create labels for clarity\n",
        "labels = ['Motif Absent', 'Motif Present']\n",
        "\n",
        "# Plotting the bar chart\n",
        "plt.figure(figsize=(6, 4))\n",
        "plt.bar(labels, motif_counts, color=['lightcoral', 'skyblue'])\n",
        "plt.xlabel('NGL Motif Presence')\n",
        "plt.ylabel('Number of Protein Sequences')\n",
        "plt.title('Distribution of NGL Motif in Protein Sequences')\n",
        "plt.grid(axis='y', linestyle='--', alpha=0.7)\n",
        "plt.show()\n"
      ],
      "metadata": {
        "id": "rL1PnNgZBq8R",
        "colab": {
          "base_uri": "https://localhost:8080/",
          "height": 410
        },
        "outputId": "09c8dc8b-8e45-4ff3-8724-ad2c2a63d97f"
      },
      "id": "rL1PnNgZBq8R",
      "execution_count": 16,
      "outputs": [
        {
          "output_type": "display_data",
          "data": {
            "text/plain": [
              "<Figure size 600x400 with 1 Axes>"
            ],
            "image/png": "[encoded data removed]"
          },
          "metadata": {}
        }
      ]
    },
    {
      "cell_type": "code",
      "source": [
        "#Global Alignment\n",
        "\n",
        "import pandas as pd\n",
        "from Bio import pairwise2\n",
        "from Bio.pairwise2 import format_alignment\n",
        "from multiprocessing import Pool\n",
        "\n",
        "# Load the datasets\n",
        "info_df = pd.read_csv('/content/drive/MyDrive/Id_60/Untitled folder/sars_cov_2_info_all_strains.csv')\n",
        "nucleotides_df = pd.read_csv('/content/drive/MyDrive/Id_60/Untitled folder/sars_cov_2_nucleotides_all_strains.csv', usecols=['seq'])\n",
        "protein_df = pd.read_csv('/content/drive/MyDrive/Id_60/Untitled folder/sars_cov_2_protein_all_strains.csv', usecols=['seq'])\n",
        "\n",
        "# Extract sequences (assuming sequences are in a column named 'sequence')\n",
        "def load_sequences(nucleotides_df, protein_df):\n",
        "    nucleotide_sequences = nucleotides_df['seq'].tolist()\n",
        "    protein_sequences = protein_df['seq'].tolist()\n",
        "    return nucleotide_sequences, protein_sequences\n",
        "\n",
        "# Perform optimized global alignment\n",
        "def perform_global_alignment_optimized(seq1, seq2):\n",
        "    alignments = pairwise2.align.globalms(seq1, seq2, 2, -1, -0.5, -0.1)  # Optimized scoring\n",
        "    return alignments\n",
        "\n",
        "# Display the top alignment\n",
        "def display_alignment(alignments, num=1):\n",
        "    for alignment in alignments[:num]:\n",
        "        print(format_alignment(*alignment))\n",
        "\n",
        "# Align a pair of sequences (used for parallelization)\n",
        "def align_sequences(pair):\n",
        "    seq1, seq2 = pair\n",
        "    return perform_global_alignment_optimized(seq1, seq2)\n",
        "\n",
        "# Main execution\n",
        "if __name__ == \"__main__\":\n",
        "    # Load sequences\n",
        "    nucleotide_sequences, protein_sequences = load_sequences(nucleotides_df, protein_df)\n",
        "\n",
        "    # Use only the first 500 characters for alignment to optimize speed\n",
        "    if nucleotide_sequences and protein_sequences:\n",
        "        sequence_pairs = [\n",
        "            (nucleotide_sequences[i][:500], nucleotide_sequences[i + 1][:500])\n",
        "            for i in range(len(nucleotide_sequences) - 1)\n",
        "        ]\n",
        "\n",
        "        # Parallelize the alignment process\n",
        "        print(\"Global Alignment for Nucleotide Sequences:\")\n",
        "        with Pool(processes=4) as pool:  # Adjust number of processes as needed\n",
        "            nucleotide_results = pool.map(align_sequences, sequence_pairs)\n",
        "\n",
        "        for alignment in nucleotide_results[:1]:  # Display one result\n",
        "            display_alignment(alignment)\n",
        "\n",
        "        sequence_pairs = [\n",
        "            (protein_sequences[i][:500], protein_sequences[i + 1][:500])\n",
        "            for i in range(len(protein_sequences) - 1)\n",
        "        ]\n",
        "\n",
        "        print(\"\\nGlobal Alignment for Protein Sequences:\")\n",
        "        with Pool(processes=4) as pool:\n",
        "            protein_results = pool.map(align_sequences, sequence_pairs)\n",
        "\n",
        "        for alignment in protein_results[:1]:  # Display one result\n",
        "            display_alignment(alignment)\n",
        "    else:\n",
        "        print(\"No sequences found in the provided files.\")\n",
        "\n"
      ],
      "metadata": {
        "id": "n9ook9QSP6kP",
        "colab": {
          "base_uri": "https://localhost:8080/"
        },
        "outputId": "a2dafd93-3fcf-4547-daf3-18a97f20f6c1"
      },
      "id": "n9ook9QSP6kP",
      "execution_count": 17,
      "outputs": [
        {
          "output_type": "stream",
          "name": "stdout",
          "text": [
            "Global Alignment for Nucleotide Sequences:\n"
          ]
        },
        {
          "output_type": "stream",
          "name": "stderr",
          "text": [
            "/usr/local/lib/python3.10/dist-packages/Bio/pairwise2.py:278: BiopythonDeprecationWarning: Bio.pairwise2 has been deprecated, and we intend to remove it in a future release of Biopython. As an alternative, please consider using Bio.Align.PairwiseAligner as a replacement, and contact the Biopython developers if you still need the Bio.pairwise2 module.\n",
            "  warnings.warn(\n"
          ]
        },
        {
          "output_type": "stream",
          "name": "stdout",
          "text": [
            "ATTAAAGGTTTATACCTTCCCAGGTAACAAACCAACCAACTTTCGATCTCTTGTAGATCTGTTCTCTAAACGAACTTTAAAATCTGTGTGGCTGTCACTCGGCTGCATGCTTAGTGCACTCACGCAGTATAATTAATAACTAATTACTGTCGTTGACAGGACACGAGTAACTCGTCTATCTTCTGCAGGCTGCTTACGGTTTCGTCCGTGTTGCAGCCGATCATCAGCACATCTAGGTTTCGTCCGGGTGTGACCGAAAGGTAAGATGGAGAGCCTTGTCCCTGGTTTCAACGAGAAAACACACGTCCAACTCAGTTTGCCTGTTTTACAGGTTCGCGACGTGCTCGTACGTGGCTTTGGAGACTCCGTGGAGGAGGTCTTATCAGAGGCACGTCAACATCTTAAAGATGGCACTTGTGGCTTAGTAGAAGTTGAAAAAGGCGTTTTGCCTCAACTTGAACAGCCCTATGTGTTCATCAAACGTTCGGATGCTCGAACTG------------------------------------------------------\n",
            "                                                      ||||||||||||||||||||||||||||||||||||||||||||||||||||||||||||||||||||||||||||||||||||||||||||||||||||||||||||||||||||||||||||||||||||||||||||||||||||||||||||||||||||||||||||||||||||||||||||||||||||||||||||||||||||||||||||||||||||||||||||||||||||||||||||||||||||||||||||||||||||||||||||||||||||||||||||||||||||||||||||||||||||||||||||||||||||||||||||||||||||||||||||||||||||||||||||||||||||||||||||||||||||||||||||||||||||||||||||||||||||||||||||||                                                      \n",
            "------------------------------------------------------AGATCTGTTCTCTAAACGAACTTTAAAATCTGTGTGGCTGTCACTCGGCTGCATGCTTAGTGCACTCACGCAGTATAATTAATAACTAATTACTGTCGTTGACAGGACACGAGTAACTCGTCTATCTTCTGCAGGCTGCTTACGGTTTCGTCCGTGTTGCAGCCGATCATCAGCACATCTAGGTTTCGTCCGGGTGTGACCGAAAGGTAAGATGGAGAGCCTTGTCCCTGGTTTCAACGAGAAAACACACGTCCAACTCAGTTTGCCTGTTTTACAGGTTCGCGACGTGCTCGTACGTGGCTTTGGAGACTCCGTGGAGGAGGTCTTATCAGAGGCACGTCAACATCTTAAAGATGGCACTTGTGGCTTAGTAGAAGTTGAAAAAGGCGTTTTGCCTCAACTTGAACAGCCCTATGTGTTCATCAAACGTTCGGATGCTCGAACTGCACCTCATGGTCATGTTATGGTTGAGCTGGTAGCAGAACTCGAAGGCATTCAGT\n",
            "  Score=880.4\n",
            "\n",
            "\n",
            "Global Alignment for Protein Sequences:\n",
            "MIELSLIDFYLCFLAFLLFLVLIMLIIFWFSLELQDHNETCHA\n",
            "|||||||||||||||||||||||||||||||||||||||||||\n",
            "MIELSLIDFYLCFLAFLLFLVLIMLIIFWFSLELQDHNETCHA\n",
            "  Score=86\n",
            "\n"
          ]
        }
      ]
    },
    {
      "cell_type": "code",
      "source": [
        "#local alignment\n",
        "#Smith–Waterman algorithm\n",
        "\n",
        "import pandas as pd\n",
        "from multiprocessing import Pool\n",
        "\n",
        "def smith_waterman(seq1, seq2, match_score=2, mismatch_score=-1, gap_penalty=-1):\n",
        "    # Initialize scoring matrix\n",
        "    m, n = len(seq1), len(seq2)\n",
        "    score_matrix = [[0] * (n + 1) for _ in range(m + 1)]\n",
        "    max_score = 0\n",
        "    max_pos = None\n",
        "\n",
        "    # Fill the scoring matrix\n",
        "    for i in range(1, m + 1):\n",
        "        for j in range(1, n + 1):\n",
        "            match = score_matrix[i - 1][j - 1] + (match_score if seq1[i - 1] == seq2[j - 1] else mismatch_score)\n",
        "            delete = score_matrix[i - 1][j] + gap_penalty\n",
        "            insert = score_matrix[i][j - 1] + gap_penalty\n",
        "            score_matrix[i][j] = max(0, match, delete, insert)\n",
        "\n",
        "            if score_matrix[i][j] > max_score:\n",
        "                max_score = score_matrix[i][j]\n",
        "                max_pos = (i, j)\n",
        "\n",
        "    # Traceback\n",
        "    aligned_seq1, aligned_seq2 = [], []\n",
        "    i, j = max_pos\n",
        "    while i > 0 and j > 0 and score_matrix[i][j] != 0:\n",
        "        if score_matrix[i][j] == score_matrix[i - 1][j - 1] + (match_score if seq1[i - 1] == seq2[j - 1] else mismatch_score):\n",
        "            aligned_seq1.append(seq1[i - 1])\n",
        "            aligned_seq2.append(seq2[j - 1])\n",
        "            i -= 1\n",
        "            j -= 1\n",
        "        elif score_matrix[i][j] == score_matrix[i - 1][j] + gap_penalty:\n",
        "            aligned_seq1.append(seq1[i - 1])\n",
        "            aligned_seq2.append('-')\n",
        "            i -= 1\n",
        "        else:\n",
        "            aligned_seq1.append('-')\n",
        "            aligned_seq2.append(seq2[j - 1])\n",
        "            j -= 1\n",
        "\n",
        "    return max_score, ''.join(reversed(aligned_seq1)), ''.join(reversed(aligned_seq2))\n",
        "\n",
        "# Load the datasets\n",
        "info_df = pd.read_csv('/content/drive/MyDrive/Id_60/Untitled folder/sars_cov_2_info_all_strains.csv')\n",
        "nucleotides_df = pd.read_csv('/content/drive/MyDrive/Id_60/Untitled folder/sars_cov_2_nucleotides_all_strains.csv', usecols=['seq'])\n",
        "protein_df = pd.read_csv('/content/drive/MyDrive/Id_60/Untitled folder/sars_cov_2_protein_all_strains.csv', usecols=['seq'])\n",
        "\n",
        "# Extract sequences (assuming sequences are in a column named 'sequence')\n",
        "def load_sequences(nucleotides_df, protein_df):\n",
        "    nucleotide_sequences = nucleotides_df['seq'].tolist()\n",
        "    protein_sequences = protein_df['seq'].tolist()\n",
        "    return nucleotide_sequences, protein_sequences\n",
        "\n",
        "# Align a pair of sequences (used for parallelization)\n",
        "def align_sequences(pair):\n",
        "    seq1, seq2 = pair\n",
        "    return smith_waterman(seq1, seq2)\n",
        "\n",
        "# Main execution\n",
        "if __name__ == \"__main__\":\n",
        "    # Load sequences\n",
        "    nucleotide_sequences, protein_sequences = load_sequences(nucleotides_df, protein_df)\n",
        "\n",
        "    # Use only the first 500 characters for alignment to optimize speed\n",
        "    if nucleotide_sequences and protein_sequences:\n",
        "        sequence_pairs = [\n",
        "            (nucleotide_sequences[i][:500], nucleotide_sequences[i + 1][:500])\n",
        "            for i in range(len(nucleotide_sequences) - 1)\n",
        "        ]\n",
        "\n",
        "        # Parallelize the alignment process\n",
        "        print(\"Smith-Waterman Alignment for Nucleotide Sequences:\")\n",
        "        with Pool(processes=4) as pool:  # Adjust number of processes as needed\n",
        "            nucleotide_results = pool.map(align_sequences, sequence_pairs)\n",
        "\n",
        "        for score, aligned_seq1, aligned_seq2 in nucleotide_results[:1]:  # Display one result\n",
        "            print(f\"Score: {score}\\nSequence 1: {aligned_seq1}\\nSequence 2: {aligned_seq2}\")\n",
        "\n",
        "        sequence_pairs = [\n",
        "            (protein_sequences[i][:500], protein_sequences[i + 1][:500])\n",
        "            for i in range(len(protein_sequences) - 1)\n",
        "        ]\n",
        "\n",
        "        print(\"\\nSmith-Waterman Alignment for Protein Sequences:\")\n",
        "        with Pool(processes=4) as pool:\n",
        "            protein_results = pool.map(align_sequences, sequence_pairs)\n",
        "\n",
        "        for score, aligned_seq1, aligned_seq2 in protein_results[:1]:  # Display one result\n",
        "            print(f\"Score: {score}\\nSequence 1: {aligned_seq1}\\nSequence 2: {aligned_seq2}\")\n",
        "    else:\n",
        "        print(\"No sequences found in the provided files.\")\n"
      ],
      "metadata": {
        "colab": {
          "base_uri": "https://localhost:8080/"
        },
        "id": "WrO09Qp4QH4d",
        "outputId": "529b7bc7-5343-47ab-e1af-2ecb961d115b"
      },
      "id": "WrO09Qp4QH4d",
      "execution_count": 18,
      "outputs": [
        {
          "output_type": "stream",
          "name": "stdout",
          "text": [
            "Smith-Waterman Alignment for Nucleotide Sequences:\n",
            "Score: 892\n",
            "Sequence 1: AGATCTGTTCTCTAAACGAACTTTAAAATCTGTGTGGCTGTCACTCGGCTGCATGCTTAGTGCACTCACGCAGTATAATTAATAACTAATTACTGTCGTTGACAGGACACGAGTAACTCGTCTATCTTCTGCAGGCTGCTTACGGTTTCGTCCGTGTTGCAGCCGATCATCAGCACATCTAGGTTTCGTCCGGGTGTGACCGAAAGGTAAGATGGAGAGCCTTGTCCCTGGTTTCAACGAGAAAACACACGTCCAACTCAGTTTGCCTGTTTTACAGGTTCGCGACGTGCTCGTACGTGGCTTTGGAGACTCCGTGGAGGAGGTCTTATCAGAGGCACGTCAACATCTTAAAGATGGCACTTGTGGCTTAGTAGAAGTTGAAAAAGGCGTTTTGCCTCAACTTGAACAGCCCTATGTGTTCATCAAACGTTCGGATGCTCGAACTG\n",
            "Sequence 2: AGATCTGTTCTCTAAACGAACTTTAAAATCTGTGTGGCTGTCACTCGGCTGCATGCTTAGTGCACTCACGCAGTATAATTAATAACTAATTACTGTCGTTGACAGGACACGAGTAACTCGTCTATCTTCTGCAGGCTGCTTACGGTTTCGTCCGTGTTGCAGCCGATCATCAGCACATCTAGGTTTCGTCCGGGTGTGACCGAAAGGTAAGATGGAGAGCCTTGTCCCTGGTTTCAACGAGAAAACACACGTCCAACTCAGTTTGCCTGTTTTACAGGTTCGCGACGTGCTCGTACGTGGCTTTGGAGACTCCGTGGAGGAGGTCTTATCAGAGGCACGTCAACATCTTAAAGATGGCACTTGTGGCTTAGTAGAAGTTGAAAAAGGCGTTTTGCCTCAACTTGAACAGCCCTATGTGTTCATCAAACGTTCGGATGCTCGAACTG\n",
            "\n",
            "Smith-Waterman Alignment for Protein Sequences:\n",
            "Score: 86\n",
            "Sequence 1: MIELSLIDFYLCFLAFLLFLVLIMLIIFWFSLELQDHNETCHA\n",
            "Sequence 2: MIELSLIDFYLCFLAFLLFLVLIMLIIFWFSLELQDHNETCHA\n"
          ]
        }
      ]
    },
    {
      "cell_type": "code",
      "source": [
        "\n",
        "# Standardize accession/ID for comparison\n",
        "info_df['Accession'] = info_df['Accession'].str.strip()\n",
        "nucleotides_df['id'] = nucleotides_df['id'].str.split('|').str[0].str.strip()\n",
        "protein_df['id'] = protein_df['id'].str.split('|').str[0].str.strip()\n",
        "\n",
        "# Check matches in nucleotide sequences\n",
        "nucleotide_matches = nucleotides_df['id'].isin(info_df['Accession'])\n",
        "nucleotide_accuracy = nucleotide_matches.mean() * 100\n",
        "\n",
        "# Check matches in protein sequences\n",
        "protein_matches = protein_df['id'].isin(info_df['Accession'])\n",
        "protein_accuracy = protein_matches.mean() * 100\n",
        "\n",
        "# Overall accuracy\n",
        "overall_accuracy = (nucleotide_accuracy + protein_accuracy) / 2\n",
        "\n",
        "# Results\n",
        "print(f\"Nucleotide Dataset Accuracy: {nucleotide_accuracy:.2f}%\")\n",
        "print(f\"Protein Dataset Accuracy: {protein_accuracy:.2f}%\")\n",
        "print(f\"Overall Accuracy: {overall_accuracy:.2f}%\")\n"
      ],
      "metadata": {
        "id": "E7x1m3NyNBRm",
        "colab": {
          "base_uri": "https://localhost:8080/"
        },
        "outputId": "f6bb1efc-d88f-40a4-9790-12dace79d1f5"
      },
      "id": "E7x1m3NyNBRm",
      "execution_count": 39,
      "outputs": [
        {
          "output_type": "stream",
          "name": "stdout",
          "text": [
            "Nucleotide Dataset Accuracy: 0.00%\n",
            "Protein Dataset Accuracy: 100.00%\n",
            "Overall Accuracy: 50.00%\n"
          ]
        }
      ]
    },
    {
      "cell_type": "code",
      "source": [
        "#Length-Based Validation\n",
        "\n",
        "def calculate_length_based_accuracy(dataset, info_df, seq_column, length_column='Length', id_column='id'):\n",
        "    valid_matches = 0\n",
        "    total_entries = len(dataset)\n",
        "\n",
        "    for _, row in dataset.iterrows():\n",
        "        id_value = row[id_column]\n",
        "        seq_length = len(row[seq_column])\n",
        "        matched_info = info_df[info_df['Accession'] == id_value]\n",
        "\n",
        "        if not matched_info.empty and matched_info[length_column].iloc[0] == seq_length:\n",
        "            valid_matches += 1\n",
        "\n",
        "    return (valid_matches / total_entries) * 100\n",
        "\n",
        "# Example for nucleotide accuracy\n",
        "nucleotide_length_accuracy = calculate_length_based_accuracy(\n",
        "    nucleotides_df, info_df, seq_column='seq'\n",
        ")\n",
        "\n",
        "# Example for protein accuracy\n",
        "protein_length_accuracy = calculate_length_based_accuracy(\n",
        "    protein_df, info_df, seq_column='seq'\n",
        ")\n",
        "\n",
        "# Results\n",
        "print(f\"Nucleotide Length-Based Accuracy: {nucleotide_length_accuracy:.2f}%\")\n",
        "print(f\"Protein Length-Based Accuracy: {protein_length_accuracy:.2f}%\")\n"
      ],
      "metadata": {
        "colab": {
          "base_uri": "https://localhost:8080/"
        },
        "id": "m9OlGve8NBxV",
        "outputId": "4d6d8fd1-8cc7-48c1-b058-700d04923b2a"
      },
      "id": "m9OlGve8NBxV",
      "execution_count": 40,
      "outputs": [
        {
          "output_type": "stream",
          "name": "stdout",
          "text": [
            "Nucleotide Length-Based Accuracy: 0.00%\n",
            "Protein Length-Based Accuracy: 100.00%\n"
          ]
        }
      ]
    },
    {
      "cell_type": "code",
      "source": [
        "#Weighted Accuracy\n",
        "\n",
        "def calculate_weighted_accuracy(nucleotide_accuracy, protein_accuracy, nucleotide_weight=0.6, protein_weight=0.4):\n",
        "    return (nucleotide_accuracy * nucleotide_weight) + (protein_accuracy * protein_weight)\n",
        "\n",
        "# Example weighted accuracy calculation\n",
        "nucleotide_accuracy = 95.0  # Replace with actual value\n",
        "protein_accuracy = 90.0  # Replace with actual value\n",
        "\n",
        "weighted_accuracy = calculate_weighted_accuracy(nucleotide_accuracy, protein_accuracy)\n",
        "\n",
        "# Results\n",
        "print(f\"Weighted Overall Accuracy: {weighted_accuracy:.2f}%\")\n"
      ],
      "metadata": {
        "colab": {
          "base_uri": "https://localhost:8080/"
        },
        "id": "Hw84suHjNi29",
        "outputId": "2945e634-a054-4197-b9f7-538408576cab"
      },
      "id": "Hw84suHjNi29",
      "execution_count": 41,
      "outputs": [
        {
          "output_type": "stream",
          "name": "stdout",
          "text": [
            "Weighted Overall Accuracy: 93.00%\n"
          ]
        }
      ]
    },
    {
      "cell_type": "code",
      "source": [
        "# Error-Based Accuracy\n",
        "\n",
        "def calculate_error_based_accuracy(dataset, info_df, id_column='id'):\n",
        "    mismatches = 0\n",
        "    total_entries = len(dataset)\n",
        "\n",
        "    for _, row in dataset.iterrows():\n",
        "        id_value = row[id_column]\n",
        "        if id_value not in info_df['Accession'].values:\n",
        "            mismatches += 1\n",
        "\n",
        "    error_rate = (mismatches / total_entries) * 100\n",
        "    accuracy = 100 - error_rate\n",
        "\n",
        "    return accuracy\n",
        "\n",
        "# Example for nucleotide and protein accuracy\n",
        "nucleotide_error_accuracy = calculate_error_based_accuracy(nucleotides_df, info_df)\n",
        "protein_error_accuracy = calculate_error_based_accuracy(protein_df, info_df)\n",
        "\n",
        "# Results\n",
        "print(f\"Nucleotide Error-Based Accuracy: {nucleotide_error_accuracy:.2f}%\")\n",
        "print(f\"Protein Error-Based Accuracy: {protein_error_accuracy:.2f}%\")\n"
      ],
      "metadata": {
        "colab": {
          "base_uri": "https://localhost:8080/"
        },
        "id": "v6ZZiTksNjHY",
        "outputId": "4209d8f4-657c-4c18-88d4-673ada9b0352"
      },
      "id": "v6ZZiTksNjHY",
      "execution_count": 42,
      "outputs": [
        {
          "output_type": "stream",
          "name": "stdout",
          "text": [
            "Nucleotide Error-Based Accuracy: 0.00%\n",
            "Protein Error-Based Accuracy: 100.00%\n"
          ]
        }
      ]
    },
    {
      "cell_type": "code",
      "source": [
        "!pip install rapidfuzz\n"
      ],
      "metadata": {
        "colab": {
          "base_uri": "https://localhost:8080/"
        },
        "id": "cHqhXZorPORn",
        "outputId": "7929c8bf-1c91-4bc8-a7b3-63609f6fe171"
      },
      "id": "cHqhXZorPORn",
      "execution_count": 43,
      "outputs": [
        {
          "output_type": "stream",
          "name": "stdout",
          "text": [
            "Collecting rapidfuzz\n",
            "  Downloading rapidfuzz-3.11.0-cp310-cp310-manylinux_2_17_x86_64.manylinux2014_x86_64.whl.metadata (11 kB)\n",
            "Downloading rapidfuzz-3.11.0-cp310-cp310-manylinux_2_17_x86_64.manylinux2014_x86_64.whl (3.1 MB)\n",
            "\u001b[2K   \u001b[90m━━━━━━━━━━━━━━━━━━━━━━━━━━━━━━━━━━━━━━━━\u001b[0m \u001b[32m3.1/3.1 MB\u001b[0m \u001b[31m24.6 MB/s\u001b[0m eta \u001b[36m0:00:00\u001b[0m\n",
            "\u001b[?25hInstalling collected packages: rapidfuzz\n",
            "Successfully installed rapidfuzz-3.11.0\n"
          ]
        }
      ]
    },
    {
      "cell_type": "code",
      "source": [
        "#Fuzzy Matching Accuracy\n",
        "\n",
        "from rapidfuzz import process\n",
        "\n",
        "def calculate_fuzzy_matching_accuracy(dataset, info_df, id_column='id', threshold=90):\n",
        "    valid_matches = 0\n",
        "    total_entries = len(dataset)\n",
        "\n",
        "    for _, row in dataset.iterrows():\n",
        "        id_value = row[id_column]\n",
        "        matched_id, score, _ = process.extractOne(id_value, info_df['Accession'].values)\n",
        "        if score >= threshold:\n",
        "            valid_matches += 1\n",
        "\n",
        "    return (valid_matches / total_entries) * 100\n",
        "\n",
        "# Example for nucleotide and protein accuracy\n",
        "nucleotide_fuzzy_accuracy = calculate_fuzzy_matching_accuracy(nucleotides_df, info_df)\n",
        "protein_fuzzy_accuracy = calculate_fuzzy_matching_accuracy(protein_df, info_df)\n",
        "\n",
        "# Results\n",
        "print(f\"Nucleotide Fuzzy Matching Accuracy: {nucleotide_fuzzy_accuracy:.2f}%\")\n",
        "print(f\"Protein Fuzzy Matching Accuracy: {protein_fuzzy_accuracy:.2f}%\")\n"
      ],
      "metadata": {
        "colab": {
          "base_uri": "https://localhost:8080/"
        },
        "id": "xWvTpTdINjg_",
        "outputId": "594e97de-731a-41e1-c33a-ab6b9782eb02"
      },
      "id": "xWvTpTdINjg_",
      "execution_count": 44,
      "outputs": [
        {
          "output_type": "stream",
          "name": "stdout",
          "text": [
            "Nucleotide Fuzzy Matching Accuracy: 0.00%\n",
            "Protein Fuzzy Matching Accuracy: 100.00%\n"
          ]
        }
      ]
    },
    {
      "cell_type": "code",
      "source": [
        "#Composite Accuracy\n",
        "\n",
        "def calculate_composite_accuracy(nucleotide_df, protein_df, info_df):\n",
        "    id_accuracy_nucleotide = calculate_error_based_accuracy(nucleotide_df, info_df)\n",
        "    length_accuracy_nucleotide = calculate_length_based_accuracy(nucleotide_df, info_df, seq_column='seq')\n",
        "    id_accuracy_protein = calculate_error_based_accuracy(protein_df, info_df)\n",
        "    length_accuracy_protein = calculate_length_based_accuracy(protein_df, info_df, seq_column='seq')\n",
        "\n",
        "    # Assign weights\n",
        "    nucleotide_weight = 0.5\n",
        "    protein_weight = 0.5\n",
        "    id_weight = 0.7\n",
        "    length_weight = 0.3\n",
        "\n",
        "    nucleotide_composite = (id_accuracy_nucleotide * id_weight) + (length_accuracy_nucleotide * length_weight)\n",
        "    protein_composite = (id_accuracy_protein * id_weight) + (length_accuracy_protein * length_weight)\n",
        "\n",
        "    overall_composite = (nucleotide_composite * nucleotide_weight) + (protein_composite * protein_weight)\n",
        "    return overall_composite\n",
        "\n",
        "# Composite accuracy calculation\n",
        "composite_accuracy = calculate_composite_accuracy(nucleotides_df, protein_df, info_df)\n",
        "\n",
        "# Results\n",
        "print(f\"Composite Accuracy: {composite_accuracy:.2f}%\")\n"
      ],
      "metadata": {
        "colab": {
          "base_uri": "https://localhost:8080/"
        },
        "id": "VWOROKecNB9u",
        "outputId": "c8327da9-98ff-450b-9c15-3ca53a5168a1"
      },
      "id": "VWOROKecNB9u",
      "execution_count": 45,
      "outputs": [
        {
          "output_type": "stream",
          "name": "stdout",
          "text": [
            "Composite Accuracy: 50.00%\n"
          ]
        }
      ]
    }
  ],
  "metadata": {
    "colab": {
      "provenance": []
    },
    "kernelspec": {
      "display_name": "Python 3 (ipykernel)",
      "language": "python",
      "name": "python3"
    },
    "language_info": {
      "codemirror_mode": {
        "name": "ipython",
        "version": 3
      },
      "file_extension": ".py",
      "mimetype": "text/x-python",
      "name": "python",
      "nbconvert_exporter": "python",
      "pygments_lexer": "ipython3",
      "version": "3.11.5"
    }
  },
  "nbformat": 4,
  "nbformat_minor": 5
}